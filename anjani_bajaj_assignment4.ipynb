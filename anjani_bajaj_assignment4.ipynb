{
 "cells": [
  {
   "cell_type": "code",
   "execution_count": 505,
   "metadata": {
    "collapsed": true
   },
   "outputs": [],
   "source": [
    "import math\n",
    "from sklearn.model_selection import train_test_split\n",
    "import operator\n",
    "from sklearn.metrics import accuracy_score\n",
    "from classifier import classifier\n",
    "from scipy.io import arff\n",
    "import pandas as pd\n",
    "from knn import *"
   ]
  },
  {
   "cell_type": "code",
   "execution_count": 506,
   "metadata": {
    "collapsed": true
   },
   "outputs": [],
   "source": [
    "def load_data_set(filename):\n",
    "    data = arff.loadarff(filename)\n",
    "    df = pd.DataFrame(data[0])\n",
    "    df = df.astype('int')\n",
    "    return df\n",
    "\n",
    "\n",
    "def euclidean_distance(instance1, instance2, length):\n",
    "    distance = 0\n",
    "    for x in range(length):\n",
    "        distance += pow((instance1[x] - instance2[x]), 2)\n",
    "    return math.sqrt(distance)\n",
    "\n",
    "\n",
    "def get_neighbors(train_x, test_x, k):\n",
    "    distances = []\n",
    "    length = len(test_x) - 1\n",
    "    for x in range(len(train_x)):\n",
    "        dist = euclidean_distance(test_x, train_x[x], length)\n",
    "        distances.append((train_x[x], dist))\n",
    "    distances.sort(key=operator.itemgetter(1))\n",
    "    neighbors = []\n",
    "    for x in range(k):\n",
    "        neighbors.append(distances[x][0])\n",
    "    return neighbors\n",
    "\n",
    "\n",
    "def get_predictions(neighbors):\n",
    "    neighs = {}\n",
    "    for x in range(len(neighbors)):\n",
    "        response = neighbors[x][-1]\n",
    "        if response in neighs:\n",
    "            neighs[response] += 1\n",
    "        else:\n",
    "            neighs[response] = 1\n",
    "    sorted_neighs = sorted(neighs.items(), key=operator.itemgetter(1), reverse=True)\n",
    "    return sorted_neighs[0][0]\n",
    "\n",
    "\n",
    "def get_accuracy(test_set, predictions):\n",
    "    correct = 0\n",
    "    for x in range(len(test_set)):\n",
    "        if test_set[x][-1] == predictions[x]:\n",
    "            correct += 1\n",
    "    return correct/float(len(test_set))\n",
    "\n",
    "\n",
    "class knn(classifier):\n",
    "\n",
    "    def __init__(self, k):\n",
    "        super().__init__()\n",
    "        self.train_x = []\n",
    "        self.k = k\n",
    "\n",
    "    def fit(self, X, Y):\n",
    "        self.train_x = X\n",
    "\n",
    "    def predict(self, X):\n",
    "        hypothesis = []\n",
    "        for x in range(len(X)):\n",
    "            neighbors = get_neighbors(self.train_x, X[x], self.k)\n",
    "            result = get_predictions(neighbors)\n",
    "            hypothesis.append(result)\n",
    "        return hypothesis\n"
   ]
  },
  {
   "cell_type": "code",
   "execution_count": 507,
   "metadata": {},
   "outputs": [
    {
     "name": "stdout",
     "output_type": "stream",
     "text": [
      "k= 2 Score= 0.8745387453874539\n",
      "k= 3 Score= 0.8856088560885609\n",
      "k= 4 Score= 0.8929889298892989\n",
      "k= 5 Score= 0.8892988929889298\n",
      "k= 6 Score= 0.8892988929889298\n",
      "k= 7 Score= 0.8929889298892989\n",
      "k= 8 Score= 0.8892988929889298\n",
      "k= 9 Score= 0.8966789667896679\n",
      "k= 10 Score= 0.8966789667896679\n",
      "k= 11 Score= 0.8929889298892989\n",
      "k= 12 Score= 0.8892988929889298\n",
      "k= 13 Score= 0.8819188191881919\n",
      "k= 14 Score= 0.8856088560885609\n",
      "k= 15 Score= 0.8745387453874539\n",
      "k= 16 Score= 0.8819188191881919\n",
      "k= 17 Score= 0.8634686346863468\n",
      "k= 18 Score= 0.8671586715867159\n",
      "k= 19 Score= 0.8560885608856088\n",
      "k= 20 Score= 0.8487084870848709\n",
      "k= 21 Score= 0.8450184501845018\n",
      "k= 22 Score= 0.8376383763837638\n",
      "k= 23 Score= 0.8339483394833949\n",
      "k= 24 Score= 0.8413284132841329\n",
      "k= 25 Score= 0.8376383763837638\n",
      "k= 26 Score= 0.8376383763837638\n",
      "k= 27 Score= 0.8339483394833949\n",
      "k= 28 Score= 0.8339483394833949\n",
      "k= 29 Score= 0.8339483394833949\n",
      "k= 30 Score= 0.8376383763837638\n",
      "k= 31 Score= 0.8339483394833949\n",
      "k= 32 Score= 0.8339483394833949\n"
     ]
    }
   ],
   "source": [
    "df = load_data_set('data/PhishingData.arff')\n",
    "trainSet, testSet = train_test_split(df, test_size=0.2, random_state=42, shuffle=False)\n",
    "trainSet = trainSet.values.tolist()\n",
    "testSet = testSet.values.tolist()\n",
    "\n",
    "for k in range(2, 33):\n",
    "    knn_clf = knn(k)\n",
    "    knn_clf.fit(trainSet, trainSet)\n",
    "    hyp = knn_clf.predict(testSet)\n",
    "    score = get_accuracy(testSet, hyp)\n",
    "    print(\"k=\", k, 'Score=', score)"
   ]
  },
  {
   "cell_type": "code",
   "execution_count": null,
   "metadata": {
    "collapsed": true
   },
   "outputs": [],
   "source": []
  }
 ],
 "metadata": {
  "kernelspec": {
   "display_name": "Python 3",
   "language": "python",
   "name": "python3"
  },
  "language_info": {
   "codemirror_mode": {
    "name": "ipython",
    "version": 3
   },
   "file_extension": ".py",
   "mimetype": "text/x-python",
   "name": "python",
   "nbconvert_exporter": "python",
   "pygments_lexer": "ipython3",
   "version": "3.6.3"
  }
 },
 "nbformat": 4,
 "nbformat_minor": 2
}
