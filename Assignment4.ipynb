{
 "cells": [
  {
   "cell_type": "code",
   "execution_count": 458,
   "metadata": {
    "collapsed": true
   },
   "outputs": [],
   "source": [
    "import math\n",
    "from scipy.io import arff\n",
    "from sklearn.model_selection import train_test_split\n",
    "import operator\n",
    "from sklearn.metrics import accuracy_score"
   ]
  },
  {
   "cell_type": "code",
   "execution_count": 459,
   "metadata": {
    "collapsed": true
   },
   "outputs": [],
   "source": [
    "def loadDataset(filename):\n",
    "    data = arff.loadarff(filename)\n",
    "    df = pd.DataFrame(data[0])\n",
    "    df = df.astype('int')\n",
    "    return df"
   ]
  },
  {
   "cell_type": "code",
   "execution_count": 460,
   "metadata": {},
   "outputs": [],
   "source": [
    "# data = loadDataset('data/PhishingData.arff')\n",
    "# df = pd.DataFrame(data[0])\n",
    "# df = df.astype('int')\n",
    "# df.head()\n",
    "# trainSet = df.iloc[0:1082,:] #80% of the train set\n",
    "# testSet = df.iloc[1082: ,:  ] #20% test set\n",
    "# print(len(trainSet))\n",
    "# print(len(testSet))"
   ]
  },
  {
   "cell_type": "code",
   "execution_count": 461,
   "metadata": {},
   "outputs": [],
   "source": [
    "# trainSet, testSet = train_test_split(df, test_size = 0.2, random_state=42, shuffle=False)"
   ]
  },
  {
   "cell_type": "code",
   "execution_count": 462,
   "metadata": {},
   "outputs": [],
   "source": [
    "# X = df.iloc[:, 0:9]\n",
    "# Y = df['Result']\n",
    "# X_train, X_test, y_train, y_test = train_test_split(X, Y, test_size=0.2, random_state=42, shuffle=False)\n",
    "# y_test.head()\n",
    "# y_train, X_test, y_test"
   ]
  },
  {
   "cell_type": "code",
   "execution_count": 463,
   "metadata": {},
   "outputs": [],
   "source": [
    "def euclideanDistance(instance1, instance2, length):\n",
    "    distance = 0\n",
    "    for x in range(length):\n",
    "        distance += pow((instance1[x] - instance2[x]), 2)\n",
    "    return math.sqrt(distance)\n",
    "\n",
    "\n",
    "def get_neighbors(train_x, test_x, k):\n",
    "    distances = []\n",
    "    length = len(test_x) - 1\n",
    "    for x in range(len(train_x)):\n",
    "        dist = euclideanDistance(test_x, train_x[x], length)\n",
    "        distances.append((train_x[x], dist))\n",
    "    distances.sort(key=operator.itemgetter(1))\n",
    "    neighbors = []\n",
    "    for x in range(k):\n",
    "        neighbors.append(distances[x][0])\n",
    "    return neighbors\n",
    "\n",
    "\n",
    "def get_response(neighbors):\n",
    "    classVotes = {}\n",
    "    for x in range(len(neighbors)):\n",
    "        response = neighbors[x][-1]\n",
    "        if response in classVotes:\n",
    "            classVotes[response] += 1\n",
    "        else:\n",
    "            classVotes[response] = 1\n",
    "    sortedVotes = sorted(classVotes.items(), key=operator.itemgetter(1), reverse=True)\n",
    "    return sortedVotes[0][0]\n",
    "\n",
    "class knn():\n",
    "\n",
    "    def __init__(self, k):\n",
    "        self.k = k\n",
    "\n",
    "    def fit(self, X):\n",
    "        self.train_x = X\n",
    "\n",
    "    def predict(self, X):\n",
    "        hypothesis = []\n",
    "        for x in range(len(X)):\n",
    "            neighbors = get_neighbors(self.train_x, X[x], self.k)\n",
    "            result = get_response(neighbors)\n",
    "            hypothesis.append(result)\n",
    "        return hypothesis"
   ]
  },
  {
   "cell_type": "code",
   "execution_count": 464,
   "metadata": {
    "collapsed": true
   },
   "outputs": [],
   "source": [
    "def getAccuracy(testSet, predictions):\n",
    "    correct = 0\n",
    "    for x in range(len(testSet)):\n",
    "        if testSet[x][-1] == predictions[x]:\n",
    "            correct += 1\n",
    "    return (correct/float(len(testSet))) * 100.0"
   ]
  },
  {
   "cell_type": "code",
   "execution_count": 465,
   "metadata": {},
   "outputs": [],
   "source": [
    "df = loadDataset('data/PhishingData.arff')\n",
    "# X = df.iloc[:, 0:9]\n",
    "# Y = df['Result']\n",
    "# X = X.values.tolist()\n",
    "# Y = Y.values.tolist()"
   ]
  },
  {
   "cell_type": "code",
   "execution_count": 466,
   "metadata": {},
   "outputs": [],
   "source": [
    "# X_train, X_test, y_train, y_test = train_test_split(X, Y, test_size=0.2, random_state=42, shuffle=False)\n",
    "# len(X_train)\n",
    "trainSet, testSet = train_test_split(df, test_size = 0.2, random_state=42, shuffle=False)\n",
    "trainSet = trainSet.values.tolist()\n",
    "testSet = testSet.values.tolist()"
   ]
  },
  {
   "cell_type": "code",
   "execution_count": 467,
   "metadata": {},
   "outputs": [
    {
     "name": "stdout",
     "output_type": "stream",
     "text": [
      "Score= 87.4538745387454 k= 2\n",
      "Score= 88.56088560885608 k= 3\n",
      "Score= 89.2988929889299 k= 4\n",
      "Score= 88.92988929889299 k= 5\n",
      "Score= 88.92988929889299 k= 6\n",
      "Score= 89.2988929889299 k= 7\n",
      "Score= 88.92988929889299 k= 8\n",
      "Score= 89.66789667896678 k= 9\n",
      "Score= 89.66789667896678 k= 10\n",
      "Score= 89.2988929889299 k= 11\n",
      "Score= 88.92988929889299 k= 12\n",
      "Score= 88.19188191881919 k= 13\n",
      "Score= 88.56088560885608 k= 14\n",
      "Score= 87.4538745387454 k= 15\n",
      "Score= 88.19188191881919 k= 16\n",
      "Score= 86.34686346863468 k= 17\n",
      "Score= 86.71586715867159 k= 18\n",
      "Score= 85.60885608856088 k= 19\n",
      "Score= 84.87084870848709 k= 20\n",
      "Score= 84.50184501845018 k= 21\n",
      "Score= 83.76383763837639 k= 22\n",
      "Score= 83.39483394833948 k= 23\n",
      "Score= 84.13284132841329 k= 24\n",
      "Score= 83.76383763837639 k= 25\n",
      "Score= 83.76383763837639 k= 26\n",
      "Score= 83.39483394833948 k= 27\n",
      "Score= 83.39483394833948 k= 28\n",
      "Score= 83.39483394833948 k= 29\n",
      "Score= 83.76383763837639 k= 30\n",
      "Score= 83.39483394833948 k= 31\n",
      "Score= 83.39483394833948 k= 32\n"
     ]
    }
   ],
   "source": [
    "for k in range(2, 33):\n",
    "    knnclf = knn(k)\n",
    "    knnclf.fit(trainSet)\n",
    "    hyp = knnclf.predict(testSet)\n",
    "    score = getAccuracy(testSet, hyp)\n",
    "    print('Score=', score, \"k=\", k)"
   ]
  },
  {
   "cell_type": "code",
   "execution_count": null,
   "metadata": {
    "collapsed": true
   },
   "outputs": [],
   "source": []
  }
 ],
 "metadata": {
  "kernelspec": {
   "display_name": "Python 3",
   "language": "python",
   "name": "python3"
  },
  "language_info": {
   "codemirror_mode": {
    "name": "ipython",
    "version": 3
   },
   "file_extension": ".py",
   "mimetype": "text/x-python",
   "name": "python",
   "nbconvert_exporter": "python",
   "pygments_lexer": "ipython3",
   "version": "3.6.3"
  }
 },
 "nbformat": 4,
 "nbformat_minor": 2
}
