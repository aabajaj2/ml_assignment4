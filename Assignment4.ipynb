{
 "cells": [
  {
   "cell_type": "code",
   "execution_count": 468,
   "metadata": {
    "collapsed": true
   },
   "outputs": [],
   "source": [
    "import math\n",
    "from scipy.io import arff\n",
    "from sklearn.model_selection import train_test_split\n",
    "import operator\n",
    "from sklearn.metrics import accuracy_score"
   ]
  },
  {
   "cell_type": "code",
   "execution_count": 469,
   "metadata": {
    "collapsed": true
   },
   "outputs": [],
   "source": [
    "def loadDataset(filename):\n",
    "    data = arff.loadarff(filename)\n",
    "    df = pd.DataFrame(data[0])\n",
    "    df = df.astype('int')\n",
    "    return df"
   ]
  },
  {
   "cell_type": "code",
   "execution_count": 470,
   "metadata": {
    "collapsed": true
   },
   "outputs": [],
   "source": [
    "# data = loadDataset('data/PhishingData.arff')\n",
    "# df = pd.DataFrame(data[0])\n",
    "# df = df.astype('int')\n",
    "# df.head()\n",
    "# trainSet = df.iloc[0:1082,:] #80% of the train set\n",
    "# testSet = df.iloc[1082: ,:  ] #20% test set\n",
    "# print(len(trainSet))\n",
    "# print(len(testSet))"
   ]
  },
  {
   "cell_type": "code",
   "execution_count": 471,
   "metadata": {
    "collapsed": true
   },
   "outputs": [],
   "source": [
    "# trainSet, testSet = train_test_split(df, test_size = 0.2, random_state=42, shuffle=False)"
   ]
  },
  {
   "cell_type": "code",
   "execution_count": 472,
   "metadata": {
    "collapsed": true
   },
   "outputs": [],
   "source": [
    "# X = df.iloc[:, 0:9]\n",
    "# Y = df['Result']\n",
    "# X_train, X_test, y_train, y_test = train_test_split(X, Y, test_size=0.2, random_state=42, shuffle=False)\n",
    "# y_test.head()\n",
    "# y_train, X_test, y_test"
   ]
  },
  {
   "cell_type": "code",
   "execution_count": 473,
   "metadata": {
    "collapsed": true
   },
   "outputs": [],
   "source": [
    "from classifier import classifier\n",
    "import operator\n",
    "import math\n",
    "from scipy.io import arff\n",
    "import pandas as pd\n",
    "\n",
    "\n",
    "def load_data_set(filename):\n",
    "    data = arff.loadarff(filename)\n",
    "    df = pd.DataFrame(data[0])\n",
    "    df = df.astype('int')\n",
    "    return df\n",
    "\n",
    "\n",
    "def euclidean_distance(instance1, instance2, length):\n",
    "    distance = 0\n",
    "    for x in range(length):\n",
    "        distance += pow((instance1[x] - instance2[x]), 2)\n",
    "    return math.sqrt(distance)\n",
    "\n",
    "\n",
    "def get_neighbors(train_x, test_x, k):\n",
    "    distances = []\n",
    "    length = len(test_x) - 1\n",
    "    for x in range(len(train_x)):\n",
    "        dist = euclidean_distance(test_x, train_x[x], length)\n",
    "        distances.append((train_x[x], dist))\n",
    "    distances.sort(key=operator.itemgetter(1))\n",
    "    neighbors = []\n",
    "    for x in range(k):\n",
    "        neighbors.append(distances[x][0])\n",
    "    return neighbors\n",
    "\n",
    "\n",
    "def get_predictions(neighbors):\n",
    "    neighs = {}\n",
    "    for x in range(len(neighbors)):\n",
    "        response = neighbors[x][-1]\n",
    "        if response in neighs:\n",
    "            neighs[response] += 1\n",
    "        else:\n",
    "            neighs[response] = 1\n",
    "    sorted_neighs = sorted(neighs.items(), key=operator.itemgetter(1), reverse=True)\n",
    "    return sorted_neighs[0][0]\n",
    "\n",
    "\n",
    "def get_accuracy(test_set, predictions):\n",
    "    correct = 0\n",
    "    for x in range(len(test_set)):\n",
    "        if test_set[x][-1] == predictions[x]:\n",
    "            correct += 1\n",
    "    return correct/float(len(test_set))\n",
    "\n",
    "\n",
    "class knn(classifier):\n",
    "\n",
    "    def __init__(self, k):\n",
    "        super().__init__()\n",
    "        self.train_x = []\n",
    "        self.k = k\n",
    "\n",
    "    def fit(self, X, Y):\n",
    "        self.train_x = X\n",
    "\n",
    "    def predict(self, X):\n",
    "        hypothesis = []\n",
    "        for x in range(len(X)):\n",
    "            neighbors = get_neighbors(self.train_x, X[x], self.k)\n",
    "            result = get_predictions(neighbors)\n",
    "            hypothesis.append(result)\n",
    "        return hypothesis\n"
   ]
  },
  {
   "cell_type": "code",
   "execution_count": 474,
   "metadata": {
    "collapsed": true
   },
   "outputs": [],
   "source": [
    "def getAccuracy(testSet, predictions):\n",
    "    correct = 0\n",
    "    for x in range(len(testSet)):\n",
    "        if testSet[x][-1] == predictions[x]:\n",
    "            correct += 1\n",
    "    return (correct/float(len(testSet))) * 100.0"
   ]
  },
  {
   "cell_type": "code",
   "execution_count": 475,
   "metadata": {
    "collapsed": true
   },
   "outputs": [],
   "source": [
    "df = loadDataset('data/PhishingData.arff')\n",
    "# X = df.iloc[:, 0:9]\n",
    "# Y = df['Result']\n",
    "# X = X.values.tolist()\n",
    "# Y = Y.values.tolist()"
   ]
  },
  {
   "cell_type": "code",
   "execution_count": null,
   "metadata": {
    "collapsed": true
   },
   "outputs": [],
   "source": [
    "# X_train, X_test, y_train, y_test = train_test_split(X, Y, test_size=0.2, random_state=42, shuffle=False)\n",
    "# len(X_train)\n",
    "trainSet, testSet = train_test_split(df, test_size = 0.2, random_state=42, shuffle=False)\n",
    "trainSet = trainSet.values.tolist()\n",
    "testSet = testSet.values.tolist()"
   ]
  },
  {
   "cell_type": "code",
   "execution_count": null,
   "metadata": {},
   "outputs": [
    {
     "name": "stdout",
     "output_type": "stream",
     "text": [
      "k= 2 Score= 0.8745387453874539\n",
      "k= 3 Score= 0.8856088560885609\n",
      "k= 4 Score= 0.8929889298892989\n",
      "k= 5 Score= 0.8892988929889298\n",
      "k= 6 Score= 0.8892988929889298\n",
      "k= 7 Score= 0.8929889298892989\n",
      "k= 8 Score= 0.8892988929889298\n"
     ]
    }
   ],
   "source": [
    "from knn import *\n",
    "from sklearn.model_selection import train_test_split\n",
    "\n",
    "df = load_data_set('data/PhishingData.arff')\n",
    "trainSet, testSet = train_test_split(df, test_size=0.2, random_state=42, shuffle=False)\n",
    "trainSet = trainSet.values.tolist()\n",
    "testSet = testSet.values.tolist()\n",
    "\n",
    "for k in range(2, 33):\n",
    "    knn_clf = knn(k)\n",
    "    knn_clf.fit(trainSet, trainSet)\n",
    "    hyp = knn_clf.predict(testSet)\n",
    "    score = get_accuracy(testSet, hyp)\n",
    "    print(\"k=\", k, 'Score=', score)"
   ]
  },
  {
   "cell_type": "code",
   "execution_count": null,
   "metadata": {
    "collapsed": true
   },
   "outputs": [],
   "source": []
  }
 ],
 "metadata": {
  "kernelspec": {
   "display_name": "Python 3",
   "language": "python",
   "name": "python3"
  },
  "language_info": {
   "codemirror_mode": {
    "name": "ipython",
    "version": 3
   },
   "file_extension": ".py",
   "mimetype": "text/x-python",
   "name": "python",
   "nbconvert_exporter": "python",
   "pygments_lexer": "ipython3",
   "version": "3.6.3"
  }
 },
 "nbformat": 4,
 "nbformat_minor": 2
}
